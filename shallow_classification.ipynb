{
  "nbformat": 4,
  "nbformat_minor": 0,
  "metadata": {
    "colab": {
      "provenance": [],
      "collapsed_sections": [],
      "mount_file_id": "13hhW5d_o9ucqs1mTi8n119E6gU_eH21p",
      "authorship_tag": "ABX9TyOcT/gEB32pedjoD0Ac+7EJ"
    },
    "kernelspec": {
      "name": "python3",
      "display_name": "Python 3"
    },
    "language_info": {
      "name": "python"
    }
  },
  "cells": [
    {
      "cell_type": "code",
      "metadata": {
        "id": "WXGfC3nKgdY5"
      },
      "source": [
        "import torch\n",
        "import torchvision\n",
        "import numpy as np\n",
        "import matplotlib.pyplot as plt\n",
        "import torch.utils.data as data\n",
        "import time"
      ],
      "execution_count": null,
      "outputs": []
    },
    {
      "cell_type": "code",
      "metadata": {
        "id": "tdRCuv6ZELmN"
      },
      "source": [
        "N_IMG = 12415"
      ],
      "execution_count": null,
      "outputs": []
    },
    {
      "cell_type": "code",
      "metadata": {
        "id": "qXFtSceNiBkP"
      },
      "source": [
        "! tar -zxvf folder"
      ],
      "execution_count": null,
      "outputs": []
    },
    {
      "cell_type": "code",
      "metadata": {
        "id": "hOeSNDxLgjIE"
      },
      "source": [
        "def evaluate(yt, yp, num_classes=10):\n",
        "  C=(yt*num_classes+yp).bincount(minlength=num_classes**2).view(num_classes,num_classes).float()\n",
        "  return {\n",
        "      'Acc': C.diag().sum().item()/yt.shape[0],\n",
        "      'mAcc': (C.diag()/C.sum(-1)).mean().item(),\n",
        "  }"
      ],
      "execution_count": null,
      "outputs": []
    },
    {
      "cell_type": "code",
      "metadata": {
        "id": "gBFD3BhJt4FE"
      },
      "source": [
        "def train_shallow(model, tr_images, tr_lables, vl_images, vl_lables, method, exec_time, scores):\n",
        "\n",
        "  #time tracking\n",
        "  start=time.time()\n",
        "  model.fit(tr_images, tr_lables)\n",
        "  end=time.time()\n",
        "  exec_time['train'][method]= end-start\n",
        "\n",
        "  yp = model.predict(tr_images)  \n",
        "\n",
        "  print(\"Performance on training: {}\".format(evaluate(tr_lables, yp)))\n",
        "\n",
        "  \n",
        "  scores[method] = evaluate(tr_lables, yp)\n",
        "\n",
        "  start=time.time()\n",
        "  yp = model.predict(vl_images)\n",
        "  end=time.time()\n",
        "\n",
        "  exec_time['val'][method]= end-start\n",
        "\n",
        "  print(\"Performance on validation: {}\".format(evaluate(vl_lables, yp)))\n",
        "\n"
      ],
      "execution_count": null,
      "outputs": []
    },
    {
      "cell_type": "code",
      "metadata": {
        "id": "SVVjndSVCZ-4"
      },
      "source": [
        "def compare(scores, exec_time):\n",
        "  models = list(scores.keys())\n",
        "  plot_idx = 1\n",
        "\n",
        "  for metric in ['Acc', 'mAcc']:\n",
        "    for dataset in ['train', 'val']:\n",
        "\n",
        "      plt.subplot(2,2,plot_idx)\n",
        "\n",
        "      s = torch.tensor([scores[model][metric] for model in models])\n",
        "      t = torch.tensor([exec_times[dataset][model] for model in models])\n",
        "\n",
        "      plt.plot(t.view(1,-1),s.view(1,-1), '*')\n",
        "\n",
        "      # This parts adds a label to each point in the scatter point, which in turn\n",
        "      # corresponds to a particular model\n",
        "      for i in range(len(models)):\n",
        "        plt.annotate(models[i],(t[i],s[i]))\n",
        "\n",
        "      # This adds some margin between axis and the points in the plot\n",
        "      plt.margins(0.3)\n",
        "\n",
        "\n",
        "      # The following if-the-else removes the y-axis from the second column of \n",
        "      # plots\n",
        "      if dataset=='train':\n",
        "        plt.ylabel(metric)\n",
        "      else:\n",
        "        plt.yticks([])\n",
        "\n",
        "      # The following instruction enables the xaxis only for the last row of plots\n",
        "      if metric==\"mAcc\":\n",
        "        plt.xlabel('{} time [s]'.format(dataset))\n",
        "      else:\n",
        "        plt.xticks([])\n",
        "\n",
        "      plot_idx+=1\n"
      ],
      "execution_count": null,
      "outputs": []
    },
    {
      "cell_type": "markdown",
      "metadata": {
        "id": "M-LyJ-WmsP2e"
      },
      "source": [
        "Mean and standard deviation"
      ]
    },
    {
      "cell_type": "code",
      "metadata": {
        "colab": {
          "base_uri": "https://localhost:8080/"
        },
        "id": "o16tKo9jsLHN",
        "outputId": "711545c6-8acd-4086-c19e-459fd38e5e96"
      },
      "source": [
        "mean = 0.0\n",
        "std = 0.0\n",
        "\n",
        "train_path = './dataset/train'\n",
        "\n",
        "transform = torchvision.transforms.Compose([\n",
        "    torchvision.transforms.ToTensor(),\n",
        "])\n",
        "\n",
        "dataset = torchvision.datasets.ImageFolder(train_path, transform=transform) \n",
        "loader = torch.utils.data.DataLoader(dataset, batch_size=128, shuffle=True, num_workers=2, pin_memory=True, drop_last=True)\n",
        "\n",
        "for batch, _ in loader:\n",
        "  batch = batch.view(batch.size(0), batch.size(1), -1)\n",
        "  mean += batch.mean(2).sum(0)\n",
        "  std += batch.std(2).sum(0)\n",
        "\n",
        "mean /= N_IMG\n",
        "std /= N_IMG\n",
        "\n",
        "print(mean)\n",
        "print(std)"
      ],
      "execution_count": null,
      "outputs": [
        {
          "output_type": "stream",
          "text": [
            "tensor([0.1658, 0.1610, 0.1573])\n",
            "tensor([0.1218, 0.1106, 0.1036])\n"
          ],
          "name": "stdout"
        }
      ]
    },
    {
      "cell_type": "markdown",
      "metadata": {
        "id": "uuqfJgcs57TW"
      },
      "source": [
        "Import data"
      ]
    },
    {
      "cell_type": "code",
      "metadata": {
        "colab": {
          "base_uri": "https://localhost:8080/"
        },
        "id": "kIdgCssM58t3",
        "outputId": "ef71edb1-d414-408d-8781-ccc68167577f"
      },
      "source": [
        "resized_normal = torchvision.transforms.Compose([\n",
        "    torchvision.transforms.ToTensor(),\n",
        "    torchvision.transforms.Resize(128),\n",
        "    torchvision.transforms.Normalize(mean=mean, std=std)\n",
        "    ])\n",
        "\n",
        "tot_dataset = torchvision.datasets.ImageFolder('/folder', transform=resized_normal)\n",
        "\n",
        "n_image = 12415\n",
        "split = int(n_image*20/100)\n",
        "print('total datset: {}\\ntraining set: {}\\nvalidation set: {}'.format(n_image, n_image - split, split))\n",
        "vl_dataset, tr_dataset = data.random_split(tot_dataset, [split, n_image - split])\n",
        "\n",
        "\n",
        "trDataLoader = torch.utils.data.DataLoader(tr_dataset, batch_size=128, shuffle=True, num_workers=2, pin_memory=True, drop_last=True)\n",
        "vlDataLoader = torch.utils.data.DataLoader(vl_dataset, batch_size=128, shuffle=True, num_workers=2, pin_memory=True, drop_last=True)\n"
      ],
      "execution_count": null,
      "outputs": [
        {
          "output_type": "stream",
          "text": [
            "total datset: 12415\n",
            "training set: 9932\n",
            "validation set: 2483\n"
          ],
          "name": "stdout"
        }
      ]
    },
    {
      "cell_type": "code",
      "metadata": {
        "id": "LFcJpeWBtCju"
      },
      "source": [
        "# train\n",
        "images = torch.Tensor([])\n",
        "labels = torch.Tensor([]).int()\n",
        "\n",
        "for i, l in trDataLoader:\n",
        "    i = i.reshape(i.size(0), -1)\n",
        "    images = torch.cat((images, i), 0)\n",
        "    labels = torch.cat((labels, l), 0)\n",
        "\n",
        "# valid\n",
        "imagesVal = torch.Tensor([])\n",
        "labelsVal = torch.Tensor([]).int()\n",
        "\n",
        "for i, l in vlDataLoader:\n",
        "    i = i.reshape(i.size(0), -1)\n",
        "    imagesVal = torch.cat((imagesVal, i), 0)\n",
        "    labelsVal = torch.cat((labelsVal, l), 0)"
      ],
      "execution_count": null,
      "outputs": []
    },
    {
      "cell_type": "markdown",
      "metadata": {
        "id": "5WgkGpSYBbZo"
      },
      "source": [
        "Initialization"
      ]
    },
    {
      "cell_type": "code",
      "metadata": {
        "id": "rke65rmz-TMs"
      },
      "source": [
        "exec_times = {}\n",
        "exec_times['train'] = {}\n",
        "exec_times['val'] = {}\n",
        "scores = {}"
      ],
      "execution_count": null,
      "outputs": []
    },
    {
      "cell_type": "markdown",
      "metadata": {
        "id": "lQsHysA89EC1"
      },
      "source": [
        "Decision Tree"
      ]
    },
    {
      "cell_type": "code",
      "metadata": {
        "id": "WGI3q-IS9Df8",
        "colab": {
          "base_uri": "https://localhost:8080/"
        },
        "outputId": "4d02ca46-f121-4d3c-bbb2-a1aa5a438bc3"
      },
      "source": [
        "from sklearn import tree\n",
        "\n",
        "dtree = tree.DecisionTreeClassifier()\n",
        "print(\"Decision Tree\")\n",
        "train_shallow(dtree, images, labels, imagesVal, labelsVal,'DT' , exec_times, scores)"
      ],
      "execution_count": null,
      "outputs": [
        {
          "output_type": "stream",
          "text": [
            "Decision Tree\n",
            "Performance on training: {'Acc': 0.997564935064935, 'mAcc': 0.9979947209358215}\n",
            "Performance on validation: {'Acc': 0.36883223684210525, 'mAcc': 0.3294732868671417}\n"
          ],
          "name": "stdout"
        }
      ]
    },
    {
      "cell_type": "markdown",
      "metadata": {
        "id": "lDnNdxrQwWsf"
      },
      "source": [
        "SVM"
      ]
    },
    {
      "cell_type": "code",
      "metadata": {
        "id": "dFrPmhE0glXM",
        "colab": {
          "base_uri": "https://localhost:8080/"
        },
        "outputId": "f187b16e-5bcf-4b0d-8c5e-691193facd07"
      },
      "source": [
        "from sklearn import svm\n",
        "svm_model = svm.SVC()\n",
        "\n",
        "print(\"Support Vector Machine\")\n",
        "train_shallow(svm_model, images, labels, imagesVal, labelsVal, \"SVM\", exec_times, scores)"
      ],
      "execution_count": null,
      "outputs": [
        {
          "output_type": "stream",
          "text": [
            "Support Vector Machine\n"
          ],
          "name": "stdout"
        }
      ]
    },
    {
      "cell_type": "markdown",
      "metadata": {
        "id": "P-dfrHLF47wz"
      },
      "source": [
        "Random Forest"
      ]
    },
    {
      "cell_type": "code",
      "metadata": {
        "id": "AWjPyEKc4-8v",
        "colab": {
          "base_uri": "https://localhost:8080/"
        },
        "outputId": "70e7b756-aeea-4f94-daf6-69dcd5313885"
      },
      "source": [
        "from sklearn import ensemble\n",
        "rf_model = ensemble.RandomForestClassifier(n_estimators=20, criterion=\"entropy\")\n",
        "print(\"Random Forest\")\n",
        "train_shallow(rf_model, images, labels, imagesVal, labelsVal, \"RF\", exec_times, scores)"
      ],
      "execution_count": null,
      "outputs": [
        {
          "output_type": "stream",
          "text": [
            "Random Forest\n",
            "Performance on training: {'Acc': 0.997362012987013, 'mAcc': 0.997242271900177}\n",
            "Performance on validation: {'Acc': 0.509046052631579, 'mAcc': 0.451945960521698}\n"
          ],
          "name": "stdout"
        }
      ]
    },
    {
      "cell_type": "code",
      "metadata": {
        "id": "txgFrau0IFR_"
      },
      "source": [
        "compare(scores, exec_times)"
      ],
      "execution_count": null,
      "outputs": []
    }
  ]
}
